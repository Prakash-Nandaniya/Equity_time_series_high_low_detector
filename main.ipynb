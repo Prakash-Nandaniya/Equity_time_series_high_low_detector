{
 "cells": [
  {
   "cell_type": "code",
   "execution_count": null,
   "id": "0d027728",
   "metadata": {},
   "outputs": [],
   "source": []
  }
 ],
 "metadata": {
  "kernelspec": {
   "display_name": "Equity",
   "language": "python",
   "name": "venv"
  },
  "language_info": {
   "name": "python",
   "version": "3.10.12"
  }
 },
 "nbformat": 4,
 "nbformat_minor": 5
}
